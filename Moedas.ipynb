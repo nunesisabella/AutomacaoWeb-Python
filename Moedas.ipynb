{
 "cells": [
  {
   "cell_type": "markdown",
   "id": "8b61f774",
   "metadata": {},
   "source": [
    "## Moedas: Atomoação web para atualização dos valores"
   ]
  },
  {
   "cell_type": "markdown",
   "id": "c2d74209",
   "metadata": {},
   "source": [
    "Neste trabalho iremos buscar na internet, de forma automática, a cotação de diversas moedas, tais como dólar, euro, libra e etc\n",
    "\n",
    "A ideia é conferir se o valor está abaixo do preço ideal de compra imposto por uma empresa fictícia. Caso esteja, iremos marcar como uma opção de compra para a equipe de operações.\n",
    "\n",
    "Usaremos o selenium, uma biblioteca que permite controlar o funcionamento de uma página e a interação com ela de forma automática. \n",
    "\n",
    "Base de dados: google.com"
   ]
  },
  {
   "cell_type": "code",
   "execution_count": 60,
   "id": "85d054c2",
   "metadata": {},
   "outputs": [],
   "source": [
    "from selenium import webdriver\n",
    "import pandas as pd"
   ]
  },
  {
   "cell_type": "code",
   "execution_count": 61,
   "id": "b3f175d5",
   "metadata": {},
   "outputs": [],
   "source": [
    "# Abrindo o nabegador\n",
    "\n",
    "navegador = webdriver.Chrome()\n",
    "navegador.get(\"https://www.google.com\")"
   ]
  },
  {
   "cell_type": "code",
   "execution_count": 62,
   "id": "b1674d53",
   "metadata": {},
   "outputs": [
    {
     "data": {
      "text/html": [
       "<div>\n",
       "<style scoped>\n",
       "    .dataframe tbody tr th:only-of-type {\n",
       "        vertical-align: middle;\n",
       "    }\n",
       "\n",
       "    .dataframe tbody tr th {\n",
       "        vertical-align: top;\n",
       "    }\n",
       "\n",
       "    .dataframe thead th {\n",
       "        text-align: right;\n",
       "    }\n",
       "</style>\n",
       "<table border=\"1\" class=\"dataframe\">\n",
       "  <thead>\n",
       "    <tr style=\"text-align: right;\">\n",
       "      <th></th>\n",
       "      <th>Moeda</th>\n",
       "      <th>Preço Ideal</th>\n",
       "      <th>Preço Atual</th>\n",
       "      <th>Comprar</th>\n",
       "    </tr>\n",
       "  </thead>\n",
       "  <tbody>\n",
       "    <tr>\n",
       "      <th>0</th>\n",
       "      <td>Dólar</td>\n",
       "      <td>4.90</td>\n",
       "      <td>NaN</td>\n",
       "      <td>NaN</td>\n",
       "    </tr>\n",
       "    <tr>\n",
       "      <th>1</th>\n",
       "      <td>Euro</td>\n",
       "      <td>5.43</td>\n",
       "      <td>NaN</td>\n",
       "      <td>NaN</td>\n",
       "    </tr>\n",
       "    <tr>\n",
       "      <th>2</th>\n",
       "      <td>Peso</td>\n",
       "      <td>0.05</td>\n",
       "      <td>NaN</td>\n",
       "      <td>NaN</td>\n",
       "    </tr>\n",
       "    <tr>\n",
       "      <th>3</th>\n",
       "      <td>Libra</td>\n",
       "      <td>6.01</td>\n",
       "      <td>NaN</td>\n",
       "      <td>NaN</td>\n",
       "    </tr>\n",
       "  </tbody>\n",
       "</table>\n",
       "</div>"
      ],
      "text/plain": [
       "   Moeda  Preço Ideal  Preço Atual  Comprar\n",
       "0  Dólar         4.90          NaN      NaN\n",
       "1   Euro         5.43          NaN      NaN\n",
       "2   Peso         0.05          NaN      NaN\n",
       "3  Libra         6.01          NaN      NaN"
      ]
     },
     "metadata": {},
     "output_type": "display_data"
    }
   ],
   "source": [
    "# Importando a base de dados\n",
    "\n",
    "tabela = pd.read_excel(\"moedas.xlsx\")\n",
    "\n",
    "display(tabela)"
   ]
  },
  {
   "cell_type": "code",
   "execution_count": 63,
   "id": "dc93f9dd",
   "metadata": {},
   "outputs": [
    {
     "name": "stdout",
     "output_type": "stream",
     "text": [
      "https://www.google.com/search?q=cotacao+Dolar&oq=cotacao+peso&aqs=chrome.0.69i59.3424j0j9&sourceid=chrome&ie=UTF-8\n",
      "4.99\n",
      "https://www.google.com/search?q=cotacao+Euro&oq=cotacao+peso&aqs=chrome.0.69i59.3424j0j9&sourceid=chrome&ie=UTF-8\n",
      "5.4\n",
      "https://www.google.com/search?q=cotacao+Peso&oq=cotacao+peso&aqs=chrome.0.69i59.3424j0j9&sourceid=chrome&ie=UTF-8\n",
      "0.02\n",
      "https://www.google.com/search?q=cotacao+Libra&oq=cotacao+peso&aqs=chrome.0.69i59.3424j0j9&sourceid=chrome&ie=UTF-8\n",
      "6.22\n"
     ]
    }
   ],
   "source": [
    "# Buscando as cotações\n",
    "\n",
    "for linha in tabela.index:\n",
    "    \n",
    "    #Entrando no site que contém as cotações\n",
    "    moeda = tabela.loc[linha, \"Moeda\"]\n",
    "    moeda = moeda.replace(\"ó\", \"o\")\n",
    "    link = f\"https://www.google.com/search?q=cotacao+{moeda}&oq=cotacao+peso&aqs=chrome.0.69i59.3424j0j9&sourceid=chrome&ie=UTF-8\"\n",
    "    print(link)\n",
    "    navegador.get(link)\n",
    "        \n",
    "    # Pegando e transformando a cotação em valor para o Python\n",
    "    cotacao = navegador.find_element('xpath', '//*[@id=\"knowledge-currency__updatable-data-column\"]/div[1]/div[2]/span[1]').get_attribute('data-value')\n",
    "    cotacao = cotacao.replace(\",\", \".\")\n",
    "    cotacao = float(cotacao)\n",
    "    cotacao = round(cotacao, 2)\n",
    "    print(cotacao)\n",
    "    \n",
    "    # Preenchendo a coluna Preço Atual\n",
    "    tabela.loc[linha, \"Preço Atual\"] = cotacao\n"
   ]
  },
  {
   "cell_type": "code",
   "execution_count": 64,
   "id": "7b5eeefe",
   "metadata": {},
   "outputs": [
    {
     "data": {
      "text/html": [
       "<div>\n",
       "<style scoped>\n",
       "    .dataframe tbody tr th:only-of-type {\n",
       "        vertical-align: middle;\n",
       "    }\n",
       "\n",
       "    .dataframe tbody tr th {\n",
       "        vertical-align: top;\n",
       "    }\n",
       "\n",
       "    .dataframe thead th {\n",
       "        text-align: right;\n",
       "    }\n",
       "</style>\n",
       "<table border=\"1\" class=\"dataframe\">\n",
       "  <thead>\n",
       "    <tr style=\"text-align: right;\">\n",
       "      <th></th>\n",
       "      <th>Moeda</th>\n",
       "      <th>Preço Ideal</th>\n",
       "      <th>Preço Atual</th>\n",
       "      <th>Comprar</th>\n",
       "    </tr>\n",
       "  </thead>\n",
       "  <tbody>\n",
       "    <tr>\n",
       "      <th>0</th>\n",
       "      <td>Dólar</td>\n",
       "      <td>4.90</td>\n",
       "      <td>4.99</td>\n",
       "      <td>NaN</td>\n",
       "    </tr>\n",
       "    <tr>\n",
       "      <th>1</th>\n",
       "      <td>Euro</td>\n",
       "      <td>5.43</td>\n",
       "      <td>5.40</td>\n",
       "      <td>NaN</td>\n",
       "    </tr>\n",
       "    <tr>\n",
       "      <th>2</th>\n",
       "      <td>Peso</td>\n",
       "      <td>0.05</td>\n",
       "      <td>0.02</td>\n",
       "      <td>NaN</td>\n",
       "    </tr>\n",
       "    <tr>\n",
       "      <th>3</th>\n",
       "      <td>Libra</td>\n",
       "      <td>6.01</td>\n",
       "      <td>6.22</td>\n",
       "      <td>NaN</td>\n",
       "    </tr>\n",
       "  </tbody>\n",
       "</table>\n",
       "</div>"
      ],
      "text/plain": [
       "   Moeda  Preço Ideal  Preço Atual  Comprar\n",
       "0  Dólar         4.90         4.99      NaN\n",
       "1   Euro         5.43         5.40      NaN\n",
       "2   Peso         0.05         0.02      NaN\n",
       "3  Libra         6.01         6.22      NaN"
      ]
     },
     "metadata": {},
     "output_type": "display_data"
    }
   ],
   "source": [
    "display(tabela)"
   ]
  },
  {
   "cell_type": "code",
   "execution_count": 65,
   "id": "25cc28f9",
   "metadata": {},
   "outputs": [],
   "source": [
    "# Preenchendo a coluna Comprar\n",
    "\n",
    "tabela[\"Comprar\"] = tabela[\"Preço Ideal\"] >= tabela[\"Preço Atual\"]"
   ]
  },
  {
   "cell_type": "code",
   "execution_count": 66,
   "id": "f7da9491",
   "metadata": {},
   "outputs": [
    {
     "data": {
      "text/html": [
       "<div>\n",
       "<style scoped>\n",
       "    .dataframe tbody tr th:only-of-type {\n",
       "        vertical-align: middle;\n",
       "    }\n",
       "\n",
       "    .dataframe tbody tr th {\n",
       "        vertical-align: top;\n",
       "    }\n",
       "\n",
       "    .dataframe thead th {\n",
       "        text-align: right;\n",
       "    }\n",
       "</style>\n",
       "<table border=\"1\" class=\"dataframe\">\n",
       "  <thead>\n",
       "    <tr style=\"text-align: right;\">\n",
       "      <th></th>\n",
       "      <th>Moeda</th>\n",
       "      <th>Preço Ideal</th>\n",
       "      <th>Preço Atual</th>\n",
       "      <th>Comprar</th>\n",
       "    </tr>\n",
       "  </thead>\n",
       "  <tbody>\n",
       "    <tr>\n",
       "      <th>0</th>\n",
       "      <td>Dólar</td>\n",
       "      <td>4.90</td>\n",
       "      <td>4.99</td>\n",
       "      <td>False</td>\n",
       "    </tr>\n",
       "    <tr>\n",
       "      <th>1</th>\n",
       "      <td>Euro</td>\n",
       "      <td>5.43</td>\n",
       "      <td>5.40</td>\n",
       "      <td>True</td>\n",
       "    </tr>\n",
       "    <tr>\n",
       "      <th>2</th>\n",
       "      <td>Peso</td>\n",
       "      <td>0.05</td>\n",
       "      <td>0.02</td>\n",
       "      <td>True</td>\n",
       "    </tr>\n",
       "    <tr>\n",
       "      <th>3</th>\n",
       "      <td>Libra</td>\n",
       "      <td>6.01</td>\n",
       "      <td>6.22</td>\n",
       "      <td>False</td>\n",
       "    </tr>\n",
       "  </tbody>\n",
       "</table>\n",
       "</div>"
      ],
      "text/plain": [
       "   Moeda  Preço Ideal  Preço Atual  Comprar\n",
       "0  Dólar         4.90         4.99    False\n",
       "1   Euro         5.43         5.40     True\n",
       "2   Peso         0.05         0.02     True\n",
       "3  Libra         6.01         6.22    False"
      ]
     },
     "metadata": {},
     "output_type": "display_data"
    }
   ],
   "source": [
    "display(tabela)"
   ]
  },
  {
   "cell_type": "code",
   "execution_count": 67,
   "id": "8c83b305",
   "metadata": {},
   "outputs": [],
   "source": [
    "# Fechando o navegador\n",
    "\n",
    "navegador.quit()\n",
    "\n",
    "# Exportando a base de dados atualizada\n",
    "\n",
    "tabela.to_excel(\"moedas_atualizado.xlsx\", index=False)"
   ]
  }
 ],
 "metadata": {
  "kernelspec": {
   "display_name": "Python 3 (ipykernel)",
   "language": "python",
   "name": "python3"
  },
  "language_info": {
   "codemirror_mode": {
    "name": "ipython",
    "version": 3
   },
   "file_extension": ".py",
   "mimetype": "text/x-python",
   "name": "python",
   "nbconvert_exporter": "python",
   "pygments_lexer": "ipython3",
   "version": "3.9.12"
  }
 },
 "nbformat": 4,
 "nbformat_minor": 5
}
